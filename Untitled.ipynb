{
 "cells": [
  {
   "cell_type": "code",
   "execution_count": 1,
   "id": "7df8b3cb",
   "metadata": {},
   "outputs": [
    {
     "name": "stdout",
     "output_type": "stream",
     "text": [
      " Please Enter the Principal Amount : 234\n",
      " Please Enter the Rate Of Interest   : 23\n",
      " Please Enter Time period in Years   : 2\n",
      "\n",
      "Simple Interest for Principal Amount 234.0 = 107.64\n"
     ]
    }
   ],
   "source": [
    "# Python Program to Calculate Simple Interest\n",
    "\n",
    "\n",
    "princ_amount = float(input(\" Please Enter the Principal Amount : \"))\n",
    "rate_of_int = float(input(\" Please Enter the Rate Of Interest   : \"))\n",
    "time_period = float(input(\" Please Enter Time period in Years   : \"))\n",
    "\n",
    "simple_interest = (princ_amount * rate_of_int * time_period) / 100\n",
    "\n",
    "print(\"\\nSimple Interest for Principal Amount {0} = {1}\".format(princ_amount, simple_interest))"
   ]
  },
  {
   "cell_type": "code",
   "execution_count": null,
   "id": "55da3300",
   "metadata": {},
   "outputs": [],
   "source": []
  }
 ],
 "metadata": {
  "kernelspec": {
   "display_name": "Python 3 (ipykernel)",
   "language": "python",
   "name": "python3"
  },
  "language_info": {
   "codemirror_mode": {
    "name": "ipython",
    "version": 3
   },
   "file_extension": ".py",
   "mimetype": "text/x-python",
   "name": "python",
   "nbconvert_exporter": "python",
   "pygments_lexer": "ipython3",
   "version": "3.9.12"
  }
 },
 "nbformat": 4,
 "nbformat_minor": 5
}
